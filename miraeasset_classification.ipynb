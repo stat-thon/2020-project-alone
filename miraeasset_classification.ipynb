{
 "cells": [
  {
   "cell_type": "markdown",
   "metadata": {},
   "source": [
    "## 미래에셋 빅데이터 콘테스트\n",
    "### 보험금 청구 분류\n",
    "### 전처리"
   ]
  },
  {
   "cell_type": "code",
   "execution_count": 16,
   "metadata": {},
   "outputs": [],
   "source": [
    "#라이브러리 불러오기\n",
    "import pandas as pd\n",
    "import numpy as np\n",
    "import matplotlib.pyplot as plt\n",
    "\n",
    "#데이터 불러오기\n",
    "train = pd.read_csv(\"D:/thon/data/mirae/classification/train.csv\")\n",
    "test = pd.read_csv(\"D:/thon/data/mirae/classification/test.csv\")\n",
    "\n",
    "#범주형 칼럼 선택\n",
    "category_feature = [col for col in train.columns if train[col].dtypes == 'int64']\n",
    "category_feature = list(set(category_feature) - set(['ID', 'target', 'base_ym']))\n",
    "\n",
    "#범주형 칼럼 범주화\n",
    "for col in category_feature:\n",
    "    train[col] = train[col].astype(str)\n",
    "    \n",
    "for col in category_feature:\n",
    "    test[col] = test[col].astype(str)\n",
    "    \n",
    "#train, test 더미변수 생성\n",
    "train_dummy = pd.get_dummies(train, drop_first=True)\n",
    "test_dummy = pd.get_dummies(test, drop_first = True)\n",
    "\n",
    "#train 데이터에는 mdct_inu_rclss_dcd_9 칼럼이 있지만 test 데이터에는 없어서 추가해줌\n",
    "test_dummy['mdct_inu_rclss_dcd_9'] = 0"
   ]
  },
  {
   "cell_type": "code",
   "execution_count": null,
   "metadata": {},
   "outputs": [],
   "source": [
    "#csv 파일로 저장\n",
    "train_dummy.to_csv('D:/thon/data/mirae/classification/train_dummy.csv')\n",
    "test_dummy.to_csv('D:/thon/data/mirae/classification/test_dummy.csv')"
   ]
  },
  {
   "cell_type": "code",
   "execution_count": 19,
   "metadata": {},
   "outputs": [],
   "source": [
    "#unknown 칼럼 삭제한 파일 따로 만들기\n",
    "train_wo_uk = train_dummy.drop(['mdct_inu_rclss_dcd_9','prm_nvcd_99', 'inamt_nvcd_99', 'ac_ctr_diff_1', 'ac_rst_diff_1'], axis = 'columns')\n",
    "test_wo_uk = test_dummy.drop(['mdct_inu_rclss_dcd_9','prm_nvcd_99', 'inamt_nvcd_99', 'ac_ctr_diff_1', 'ac_rst_diff_1'], axis = 'columns')"
   ]
  },
  {
   "cell_type": "code",
   "execution_count": 22,
   "metadata": {},
   "outputs": [],
   "source": [
    "#csv 파일 만들기\n",
    "train_wo_uk.to_csv('D:/thon/data/mirae/classification/train_wo_uk.csv')\n",
    "test_wo_uk.to_csv('D:/thon/data/mirae/classification/test_wo_uk.csv')"
   ]
  },
  {
   "cell_type": "markdown",
   "metadata": {},
   "source": [
    "### 모델 선정"
   ]
  },
  {
   "cell_type": "code",
   "execution_count": null,
   "metadata": {},
   "outputs": [],
   "source": [
    "#라이브러리 불러오기\n",
    "import pandas as pd\n",
    "import numpy as np\n",
    "\n",
    "from sklearn import metrics\n",
    "from sklearn.model_selection import KFold, cross_val_score, train_test_split\n",
    "from sklearn.ensemble import RandomForestClassifier,BaggingClassifier,GradientBoostingClassifier,AdaBoostClassifier\n",
    "from sklearn.svm import SVR\n",
    "from sklearn.neighbors import KNeighborsClassifier\n",
    "from sklearn.neural_network import MLPClassifier\n",
    "from sklearn.preprocessing import StandardScaler, MinMaxScaler\n",
    "\n",
    "train = pd.read_csv(\"D:/thon/data/mirae/classification/train.csv\")\n",
    "test = pd.read_csv(\"D:/thon/data/mirae/classification/test.csv\")\n",
    "train_dummy = pd.read_csv(\"D:/thon/data/mirae/classification/train_dummy.csv\")\n",
    "test_dummy = pd.read_csv(\"D:/thon/data/mirae/classification/test_dummy.csv\")\n",
    "\n",
    "#필요없는 항목 삭제\n",
    "test_dummy.drop(['Unnamed: 0'], axis = 1, inplace = True)\n",
    "test_dummy.drop(['ID'], axis = 1, inplace = True)\n",
    "test_dummy.drop(['base_ym'], axis = 1, inplace = True)\n",
    "\n",
    "train_dummy.drop(['Unnamed: 0'], axis = 1, inplace = True)\n",
    "train_dummy.drop(['ID'], axis = 1, inplace = True)\n",
    "train_dummy.drop(['base_ym'], axis = 1, inplace = True)\n",
    "\n",
    "#X와 Y로 변수 구별\n",
    "x_train_dummy = train_dummy.drop(['target'], axis = 1)\n",
    "y_train_dummy = train_dummy['target']\n",
    "\n",
    "#타깃 변수 문자형 변환\n",
    "y_train_dummy = y_train_dummy.astype(str)\n",
    "\n",
    "#훈련, 테스트 데이터로 나누기\n",
    "x_train, x_test, y_train, y_test = train_test_split(x_train_dummy, y_train_dummy, random_state = 0)\n",
    "\n",
    "#randomforest 적용해서 분류기 성능 확인\n",
    "rf = RandomForestClassifier()\n",
    "model = rf.fit(x_train, y_train)\n",
    "rf.score(x_test, y_test)\n",
    "\n",
    "#test_dummy 데이터에 모델 적용\n",
    "target_pred = model.predict(test_dummy)\n",
    "\n",
    "#예측 결과 데이터프레임화\n",
    "target = pd.DataFrame(target_pred, columns = ['target'])\n",
    "\n",
    "#결과 csv 파일 저장\n",
    "target.to_csv('D:/thon/data/mirae/classification/target_predict1.csv')"
   ]
  }
 ],
 "metadata": {
  "kernelspec": {
   "display_name": "Python 3",
   "language": "python",
   "name": "python3"
  },
  "language_info": {
   "codemirror_mode": {
    "name": "ipython",
    "version": 3
   },
   "file_extension": ".py",
   "mimetype": "text/x-python",
   "name": "python",
   "nbconvert_exporter": "python",
   "pygments_lexer": "ipython3",
   "version": "3.7.9"
  }
 },
 "nbformat": 4,
 "nbformat_minor": 4
}
