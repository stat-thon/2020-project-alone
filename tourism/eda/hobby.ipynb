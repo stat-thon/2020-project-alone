{
 "cells": [
  {
   "cell_type": "markdown",
   "metadata": {},
   "source": [
    "## EDA for hobby"
   ]
  },
  {
   "cell_type": "code",
   "execution_count": 1,
   "metadata": {},
   "outputs": [],
   "source": [
    "import pandas as pd\n",
    "import numpy as np\n",
    "import seaborn as sns\n",
    "import matplotlib.pyplot as plt"
   ]
  },
  {
   "cell_type": "code",
   "execution_count": 2,
   "metadata": {},
   "outputs": [
    {
     "name": "stderr",
     "output_type": "stream",
     "text": [
      "C:\\Users\\sujin\\AppData\\Local\\Temp\\ipykernel_12080\\2903619501.py:8: DtypeWarning: Columns (90,100,101,102,103,104,105,126) have mixed types. Specify dtype option on import or set low_memory=False.\n",
      "  h21 = pd.read_csv(data_dir + '/hobby_21.csv')\n"
     ]
    }
   ],
   "source": [
    "# data dir\n",
    "\n",
    "data_dir = 'D:/thon/project/tourism/02.국민여가활동조사/3.데이터'\n",
    "\n",
    "# data load\n",
    "\n",
    "\n",
    "h21 = pd.read_csv(data_dir + '/hobby_21.csv')\n",
    "h21 = pd.DataFrame(h21)"
   ]
  },
  {
   "cell_type": "code",
   "execution_count": 30,
   "metadata": {},
   "outputs": [
    {
     "data": {
      "text/html": [
       "<div>\n",
       "<style scoped>\n",
       "    .dataframe tbody tr th:only-of-type {\n",
       "        vertical-align: middle;\n",
       "    }\n",
       "\n",
       "    .dataframe tbody tr th {\n",
       "        vertical-align: top;\n",
       "    }\n",
       "\n",
       "    .dataframe thead th {\n",
       "        text-align: right;\n",
       "    }\n",
       "</style>\n",
       "<table border=\"1\" class=\"dataframe\">\n",
       "  <thead>\n",
       "    <tr style=\"text-align: right;\">\n",
       "      <th></th>\n",
       "      <th>ID</th>\n",
       "      <th>q1_A</th>\n",
       "      <th>q1_A_m2</th>\n",
       "      <th>q1_A_m3</th>\n",
       "      <th>q1_A_m4</th>\n",
       "      <th>q1_A_m5</th>\n",
       "      <th>q1_A_m6</th>\n",
       "      <th>q1_A_m7</th>\n",
       "      <th>q1_A_m8</th>\n",
       "      <th>q1_B</th>\n",
       "      <th>...</th>\n",
       "      <th>DM4</th>\n",
       "      <th>DM5</th>\n",
       "      <th>DM6</th>\n",
       "      <th>DM7</th>\n",
       "      <th>DM8</th>\n",
       "      <th>DM9</th>\n",
       "      <th>DM10</th>\n",
       "      <th>DM11</th>\n",
       "      <th>DM11_1</th>\n",
       "      <th>DM12</th>\n",
       "    </tr>\n",
       "  </thead>\n",
       "  <tbody>\n",
       "    <tr>\n",
       "      <th>0</th>\n",
       "      <td>1</td>\n",
       "      <td>99</td>\n",
       "      <td></td>\n",
       "      <td></td>\n",
       "      <td></td>\n",
       "      <td></td>\n",
       "      <td></td>\n",
       "      <td></td>\n",
       "      <td></td>\n",
       "      <td>99</td>\n",
       "      <td>...</td>\n",
       "      <td>3</td>\n",
       "      <td>2</td>\n",
       "      <td>2</td>\n",
       "      <td>6</td>\n",
       "      <td>2</td>\n",
       "      <td>3</td>\n",
       "      <td>5</td>\n",
       "      <td>15</td>\n",
       "      <td>37050</td>\n",
       "      <td>3</td>\n",
       "    </tr>\n",
       "    <tr>\n",
       "      <th>1</th>\n",
       "      <td>2</td>\n",
       "      <td>99</td>\n",
       "      <td></td>\n",
       "      <td></td>\n",
       "      <td></td>\n",
       "      <td></td>\n",
       "      <td></td>\n",
       "      <td></td>\n",
       "      <td></td>\n",
       "      <td>99</td>\n",
       "      <td>...</td>\n",
       "      <td>3</td>\n",
       "      <td>2</td>\n",
       "      <td>1</td>\n",
       "      <td>5</td>\n",
       "      <td>3</td>\n",
       "      <td>3</td>\n",
       "      <td>5</td>\n",
       "      <td>15</td>\n",
       "      <td>37050</td>\n",
       "      <td>3</td>\n",
       "    </tr>\n",
       "    <tr>\n",
       "      <th>2</th>\n",
       "      <td>3</td>\n",
       "      <td>99</td>\n",
       "      <td></td>\n",
       "      <td></td>\n",
       "      <td></td>\n",
       "      <td></td>\n",
       "      <td></td>\n",
       "      <td></td>\n",
       "      <td></td>\n",
       "      <td>99</td>\n",
       "      <td>...</td>\n",
       "      <td>3</td>\n",
       "      <td>3</td>\n",
       "      <td>2</td>\n",
       "      <td>8</td>\n",
       "      <td>2</td>\n",
       "      <td>3</td>\n",
       "      <td>5</td>\n",
       "      <td>15</td>\n",
       "      <td>37050</td>\n",
       "      <td>3</td>\n",
       "    </tr>\n",
       "    <tr>\n",
       "      <th>3</th>\n",
       "      <td>4</td>\n",
       "      <td>99</td>\n",
       "      <td></td>\n",
       "      <td></td>\n",
       "      <td></td>\n",
       "      <td></td>\n",
       "      <td></td>\n",
       "      <td></td>\n",
       "      <td></td>\n",
       "      <td>99</td>\n",
       "      <td>...</td>\n",
       "      <td>3</td>\n",
       "      <td>3</td>\n",
       "      <td>1</td>\n",
       "      <td>5</td>\n",
       "      <td>2</td>\n",
       "      <td>3</td>\n",
       "      <td>5</td>\n",
       "      <td>15</td>\n",
       "      <td>37050</td>\n",
       "      <td>3</td>\n",
       "    </tr>\n",
       "    <tr>\n",
       "      <th>4</th>\n",
       "      <td>5</td>\n",
       "      <td></td>\n",
       "      <td></td>\n",
       "      <td></td>\n",
       "      <td></td>\n",
       "      <td></td>\n",
       "      <td></td>\n",
       "      <td>7</td>\n",
       "      <td></td>\n",
       "      <td>99</td>\n",
       "      <td>...</td>\n",
       "      <td>2</td>\n",
       "      <td>1</td>\n",
       "      <td>1</td>\n",
       "      <td>5</td>\n",
       "      <td>2</td>\n",
       "      <td>3</td>\n",
       "      <td>5</td>\n",
       "      <td>15</td>\n",
       "      <td>37050</td>\n",
       "      <td>3</td>\n",
       "    </tr>\n",
       "  </tbody>\n",
       "</table>\n",
       "<p>5 rows × 356 columns</p>\n",
       "</div>"
      ],
      "text/plain": [
       "   ID q1_A q1_A_m2 q1_A_m3 q1_A_m4 q1_A_m5 q1_A_m6 q1_A_m7 q1_A_m8 q1_B  ...  \\\n",
       "0   1   99                                                           99  ...   \n",
       "1   2   99                                                           99  ...   \n",
       "2   3   99                                                           99  ...   \n",
       "3   4   99                                                           99  ...   \n",
       "4   5                                                    7           99  ...   \n",
       "\n",
       "  DM4 DM5 DM6 DM7 DM8 DM9 DM10 DM11 DM11_1 DM12  \n",
       "0   3   2   2   6   2   3    5   15  37050    3  \n",
       "1   3   2   1   5   3   3    5   15  37050    3  \n",
       "2   3   3   2   8   2   3    5   15  37050    3  \n",
       "3   3   3   1   5   2   3    5   15  37050    3  \n",
       "4   2   1   1   5   2   3    5   15  37050    3  \n",
       "\n",
       "[5 rows x 356 columns]"
      ]
     },
     "execution_count": 30,
     "metadata": {},
     "output_type": "execute_result"
    }
   ],
   "source": [
    "h21.head()"
   ]
  },
  {
   "cell_type": "code",
   "execution_count": 31,
   "metadata": {},
   "outputs": [
    {
     "data": {
      "text/plain": [
       "(10049, 356)"
      ]
     },
     "execution_count": 31,
     "metadata": {},
     "output_type": "execute_result"
    }
   ],
   "source": [
    "h21.shape\n",
    "\n",
    "# 10049 rows with 356 columns"
   ]
  },
  {
   "cell_type": "code",
   "execution_count": 3,
   "metadata": {},
   "outputs": [
    {
     "name": "stdout",
     "output_type": "stream",
     "text": [
      "6826\n"
     ]
    }
   ],
   "source": [
    "# 스포츠관람/참여 체크한 row만 추출 (sportsman)\n",
    "\n",
    "sportsman = h21.loc[(h21['q1_C'] != '99') | (h21['q1_D'] != '99')]\n",
    "\n",
    "print(len(sportsman))"
   ]
  },
  {
   "cell_type": "code",
   "execution_count": 4,
   "metadata": {},
   "outputs": [
    {
     "name": "stdout",
     "output_type": "stream",
     "text": [
      "57\n"
     ]
    }
   ],
   "source": [
    "# 의미있는 칼럼 리스트 생성\n",
    "sports_col = ['q1_C', 'q1_C_m2', 'q1_C_m3', 'q1_C_m4', 'q1_D']\n",
    "\n",
    "for i in range(17):\n",
    "    sports_col.append('q1_D_m' + str(i+2))\n",
    "\n",
    "sports_col.append('q6')\n",
    "sports_col.append('q8')\n",
    "sports_col.append('q11_1_C')\n",
    "sports_col.append('q11_2_C')\n",
    "sports_col.append('q11_1_D')\n",
    "sports_col.append('q11_2_D')\n",
    "sports_col.append('q11_3_D')\n",
    "sports_col.append('q12_1_C')\n",
    "sports_col.append('q12_2_C')\n",
    "sports_col.append('q12_1_D')\n",
    "sports_col.append('q12_2_D')\n",
    "sports_col.append('q12_3_D')\n",
    "\n",
    "sports_col.append('q30')\n",
    "sports_col.append('q30_1')\n",
    "\n",
    "for i in range(5):\n",
    "    sports_col.append('q35_' + str(i+1))\n",
    "\n",
    "sports_col.append('q45')\n",
    "sports_col.append('q45_1')\n",
    "sports_col.append('q45_2')\n",
    "sports_col.append('q47')\n",
    "\n",
    "for i in range(12):\n",
    "    sports_col.append('DM' + str(i+1))\n",
    "\n",
    "print(len(sports_col))"
   ]
  },
  {
   "cell_type": "code",
   "execution_count": 5,
   "metadata": {},
   "outputs": [
    {
     "name": "stdout",
     "output_type": "stream",
     "text": [
      "(6826, 57)\n"
     ]
    }
   ],
   "source": [
    "# spotsman df에서 의미있는 칼럼 sports col만 추출\n",
    "sportsman_df = sportsman[sports_col]\n",
    "\n",
    "print(sportsman_df.shape)"
   ]
  },
  {
   "cell_type": "code",
   "execution_count": 6,
   "metadata": {},
   "outputs": [
    {
     "name": "stdout",
     "output_type": "stream",
     "text": [
      "   q1_C q1_C_m2 q1_C_m3 q1_C_m4  q1_D q1_D_m2 q1_D_m3 q1_D_m4 q1_D_m5 q1_D_m6  \\\n",
      "4  <NA>      17    <NA>    <NA>    99    <NA>    <NA>    <NA>    <NA>    <NA>   \n",
      "5  <NA>      17    <NA>    <NA>    99    <NA>    <NA>    <NA>    <NA>    <NA>   \n",
      "6  <NA>      17    <NA>    <NA>    99    <NA>    <NA>    <NA>    <NA>    <NA>   \n",
      "8    99    <NA>    <NA>    <NA>  <NA>    <NA>    <NA>    <NA>    <NA>    <NA>   \n",
      "9  <NA>      17    <NA>    <NA>  <NA>    <NA>      22    <NA>    <NA>    <NA>   \n",
      "\n",
      "   ... DM3 DM4 DM5 DM6 DM7 DM8 DM9 DM10 DM11 DM12  \n",
      "4  ...   3   2   1   1   5   2   3    5   15    3  \n",
      "5  ...   1   2   3   1   5   2   3    5   15    3  \n",
      "6  ...   2   3   2   1   5   3   3    5   15    3  \n",
      "8  ...   1   1   3   1   8   1   3    5   15    3  \n",
      "9  ...   3   2   2   2   6   3   3    5   15    3  \n",
      "\n",
      "[5 rows x 57 columns]\n"
     ]
    }
   ],
   "source": [
    "df = sportsman_df.convert_dtypes()\n",
    "df = df.replace(\" \", np.NaN) # 공백을 NA로 대체\n",
    "print(df.head())"
   ]
  },
  {
   "cell_type": "code",
   "execution_count": 130,
   "metadata": {},
   "outputs": [
    {
     "name": "stdout",
     "output_type": "stream",
     "text": [
      "q1_C        4430\n",
      "q1_C_m2     2084\n",
      "q1_C_m3     6519\n",
      "q1_C_m4     6452\n",
      "q1_D        4122\n",
      "q1_D_m2     6728\n",
      "q1_D_m3     6138\n",
      "q1_D_m4     6084\n",
      "q1_D_m5     6288\n",
      "q1_D_m6     6462\n",
      "q1_D_m7     6753\n",
      "q1_D_m8     6718\n",
      "q1_D_m9     6798\n",
      "q1_D_m10    5523\n",
      "q1_D_m11    6193\n",
      "q1_D_m12    4961\n",
      "q1_D_m13    6201\n",
      "q1_D_m14    6700\n",
      "q1_D_m15    6751\n",
      "q1_D_m16    6444\n",
      "q1_D_m17    6783\n",
      "q1_D_m18    6787\n",
      "q6          3838\n",
      "q8          3838\n",
      "q11_1_C        0\n",
      "q11_2_C     2435\n",
      "q11_1_D        0\n",
      "q11_2_D     2636\n",
      "q11_3_D        0\n",
      "q12_1_C        0\n",
      "q12_2_C     2424\n",
      "q12_1_D        0\n",
      "q12_2_D     2894\n",
      "q12_3_D        0\n",
      "q30            0\n",
      "q30_1       3813\n",
      "q35_1          0\n",
      "q35_2          0\n",
      "q35_3          0\n",
      "q35_4          0\n",
      "q35_5          0\n",
      "q45            0\n",
      "q45_1       2288\n",
      "q45_2       4538\n",
      "q47         2288\n",
      "DM1            0\n",
      "DM2            0\n",
      "DM3            0\n",
      "DM4            0\n",
      "DM5            0\n",
      "DM6            0\n",
      "DM7            0\n",
      "DM8            0\n",
      "DM9            0\n",
      "DM10           0\n",
      "DM11           0\n",
      "DM12           0\n",
      "dtype: int64\n"
     ]
    }
   ],
   "source": [
    "# 전체 결측 확인\n",
    "\n",
    "print(df.isnull().sum())"
   ]
  },
  {
   "cell_type": "code",
   "execution_count": 7,
   "metadata": {},
   "outputs": [
    {
     "data": {
      "text/plain": [
       "경기관람    2396\n",
       "간접관람    4742\n",
       "격투관람     307\n",
       "이스포츠     374\n",
       "dtype: int64"
      ]
     },
     "execution_count": 7,
     "metadata": {},
     "output_type": "execute_result"
    }
   ],
   "source": [
    "# 스포츠관람활동 (직접관람, 간접관람, 격투관람, 온라인게임 관람)\n",
    "sports_watch = df.shape[0] - df[['q1_C', 'q1_C_m2', 'q1_C_m3', 'q1_C_m4']].isnull().sum()\n",
    "\n",
    "# 경기 관람을 1회 이상 한 사람\n",
    "sports_watch.index = [\"경기관람\", \"간접관람\", \"격투관람\", \"이스포츠\"]\n",
    "sports_watch"
   ]
  },
  {
   "cell_type": "code",
   "execution_count": 8,
   "metadata": {},
   "outputs": [
    {
     "data": {
      "text/plain": [
       "농구/배구/야구/축구/족구         2704\n",
       "테니스/스쿼시                  98\n",
       "당구/포켓볼                  688\n",
       "볼링/탁구                   742\n",
       "골프                      538\n",
       "수영                      364\n",
       "수상스포츠                    73\n",
       "스노보드/스키                 108\n",
       "아이스스케이트/아이스하키            28\n",
       "헬스/에어로빅                1303\n",
       "요가/필라테스/태보              633\n",
       "배드민턴/줄넘기/스트레칭/훌라후프     1865\n",
       "육상/조깅/속보                625\n",
       "격투스포츠                   126\n",
       "댄스스포츠                    75\n",
       "사이클링/산악자전거              382\n",
       "인라인스케이트                  43\n",
       "승마/암벽등반/철인삼종경기/서바이벌      39\n",
       "dtype: int64"
      ]
     },
     "execution_count": 8,
     "metadata": {},
     "output_type": "execute_result"
    }
   ],
   "source": [
    "sports_active = df.shape[0] - df[['q1_D', 'q1_D_m2', 'q1_D_m3', 'q1_D_m4', 'q1_D_m5', 'q1_D_m6', 'q1_D_m7', 'q1_D_m8', 'q1_D_m9', 'q1_D_m10', 'q1_D_m11', 'q1_D_m12', 'q1_D_m13', 'q1_D_m14', 'q1_D_m15', 'q1_D_m16', 'q1_D_m17', 'q1_D_m18']].isnull().sum()\n",
    "sports_active.index = [\"농구/배구/야구/축구/족구\", \"테니스/스쿼시\", \"당구/포켓볼\", \"볼링/탁구\", \"골프\", \"수영\", \"수상스포츠\", \"스노보드/스키\", \"아이스스케이트/아이스하키\", \"헬스/에어로빅\", \"요가/필라테스/태보\", \"배드민턴/줄넘기/스트레칭/훌라후프\",\n",
    "\"육상/조깅/속보\", \"격투스포츠\", \"댄스스포츠\", \"사이클링/산악자전거\", \"인라인스케이트\", \"승마/암벽등반/철인삼종경기/서바이벌\"]\n",
    "sports_active"
   ]
  },
  {
   "cell_type": "code",
   "execution_count": 12,
   "metadata": {},
   "outputs": [
    {
     "data": {
      "image/png": "[encoded data removed]",
      "text/plain": [
       "<Figure size 1080x576 with 1 Axes>"
      ]
     },
     "metadata": {},
     "output_type": "display_data"
    }
   ],
   "source": [
    "sns.set(font_scale = 1.5)\n",
    "plt.rc(\"font\", family = \"NanumGothic\") # 한글깨짐 방지\n",
    "plt.figure(figsize=(15, 8))\n",
    "ax = sports_active.plot(kind = 'bar')\n",
    "plt.xticks(rotation=45)\n",
    "ax.set_title('참여한 스포츠활동 종류\\n', fontsize=20)\n",
    "ax.set_xlabel('');  # semicolon suppresses text output"
   ]
  },
  {
   "cell_type": "markdown",
   "metadata": {},
   "source": [
    "### 1위 농구/배구/야구/축구/족구 2위 배드민턴/줄넘기/스트레칭/훌라후프 3위 헬스/에어로빅"
   ]
  },
  {
   "cell_type": "code",
   "execution_count": 13,
   "metadata": {},
   "outputs": [],
   "source": [
    "#"
   ]
  }
 ],
 "metadata": {
  "kernelspec": {
   "display_name": "Python 3.9.7 ('tf')",
   "language": "python",
   "name": "python3"
  },
  "language_info": {
   "codemirror_mode": {
    "name": "ipython",
    "version": 3
   },
   "file_extension": ".py",
   "mimetype": "text/x-python",
   "name": "python",
   "nbconvert_exporter": "python",
   "pygments_lexer": "ipython3",
   "version": "3.9.7"
  },
  "orig_nbformat": 4,
  "vscode": {
   "interpreter": {
    "hash": "d88f82afb66455697598f3be97bf4103fd55222ccf64b880ef38c583c364c29c"
   }
  }
 },
 "nbformat": 4,
 "nbformat_minor": 2
}
