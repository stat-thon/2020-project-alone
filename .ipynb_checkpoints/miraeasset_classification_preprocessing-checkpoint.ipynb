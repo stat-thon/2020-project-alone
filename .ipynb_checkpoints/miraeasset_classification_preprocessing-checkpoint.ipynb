{
 "cells": [
  {
   "cell_type": "markdown",
   "metadata": {},
   "source": [
    "## 미래에셋 빅데이터 콘테스트\n",
    "# \n",
    "### 보험금 청구 분류"
   ]
  },
  {
   "cell_type": "markdown",
   "metadata": {},
   "source": [
    "### train 데이터와 test 데이터 더미 변수 만들기"
   ]
  },
  {
   "cell_type": "code",
   "execution_count": 1,
   "metadata": {},
   "outputs": [],
   "source": [
    "#라이브러리 불러오기\n",
    "import pandas as pd\n",
    "import numpy as np\n",
    "import matplotlib.pyplot as plt\n",
    "import seaborn as sns"
   ]
  },
  {
   "cell_type": "code",
   "execution_count": 2,
   "metadata": {},
   "outputs": [],
   "source": [
    "#데이터 불러오기\n",
    "stocks = pd.read_csv(\"D:/thon/data/mirae/classification/sample.csv\")\n",
    "train = pd.read_csv(\"D:/thon/data/mirae/classification/train.csv\")\n",
    "test = pd.read_csv(\"D:/thon/data/mirae/classification/test.csv\")"
   ]
  },
  {
   "cell_type": "code",
   "execution_count": 4,
   "metadata": {},
   "outputs": [],
   "source": [
    "#범주형 칼럼 범주화\n",
    "#먼저, 범주형이지만 숫자형인 데이터들 모두 문자형으로 변환\n",
    "category_feature = [col for col in train.columns if train[col].dtypes == 'int64']\n",
    "category_feature = list(set(category_feature) - set(['ID', 'target', 'base_ym']))\n",
    "for col in category_feature:\n",
    "    train[col] = train[col].astype(str)\n",
    "    \n",
    "#test 데이터도 칼럼 범주화\n",
    "for col in category_feature:\n",
    "    test[col] = test[col].astype(str)"
   ]
  },
  {
   "cell_type": "code",
   "execution_count": 7,
   "metadata": {},
   "outputs": [],
   "source": [
    "#get_dummies 활용 더미변수 생성\n",
    "train_dummy = pd.get_dummies(train, drop_first=True)\n",
    "test_dummy = pd.get_dummies(test, drop_first = True)"
   ]
  },
  {
   "cell_type": "code",
   "execution_count": 9,
   "metadata": {
    "collapsed": true
   },
   "outputs": [
    {
     "name": "stdout",
     "output_type": "stream",
     "text": [
      "<class 'pandas.core.frame.DataFrame'>\n",
      "RangeIndex: 377928 entries, 0 to 377927\n",
      "Columns: 129 entries, ID to ac_rst_diff_6\n",
      "dtypes: float64(14), int64(3), uint8(112)\n",
      "memory usage: 89.4 MB\n"
     ]
    }
   ],
   "source": [
    "train_dummy.info()"
   ]
  },
  {
   "cell_type": "code",
   "execution_count": 10,
   "metadata": {
    "collapsed": true
   },
   "outputs": [
    {
     "name": "stdout",
     "output_type": "stream",
     "text": [
      "<class 'pandas.core.frame.DataFrame'>\n",
      "RangeIndex: 22072 entries, 0 to 22071\n",
      "Columns: 127 entries, ID to ac_rst_diff_6\n",
      "dtypes: float64(14), int64(2), uint8(111)\n",
      "memory usage: 5.0 MB\n"
     ]
    }
   ],
   "source": [
    "test_dummy.info()"
   ]
  },
  {
   "cell_type": "markdown",
   "metadata": {},
   "source": [
    "#### 같은 방식으로 더미 변수를 만들었는데 test 데이터에서는 칼럼이 하나 덜 만들어졌다.\n",
    "#### test 데이터의 특정 명목변수 중 값이 0개인 범주가 있어 이런 차이가 만들어졌을 것이라고 생각하고 일단 그 변수를 찾아내기로 했다."
   ]
  },
  {
   "cell_type": "code",
   "execution_count": 36,
   "metadata": {
    "collapsed": true
   },
   "outputs": [
    {
     "data": {
      "text/plain": [
       "2    207836\n",
       "1    100934\n",
       "3     68965\n",
       "9       193\n",
       "Name: mdct_inu_rclss_dcd, dtype: int64"
      ]
     },
     "execution_count": 36,
     "metadata": {},
     "output_type": "execute_result"
    }
   ],
   "source": [
    "train['mdct_inu_rclss_dcd'].value_counts()"
   ]
  },
  {
   "cell_type": "code",
   "execution_count": 37,
   "metadata": {
    "collapsed": true
   },
   "outputs": [
    {
     "data": {
      "text/plain": [
       "2    11721\n",
       "1     6666\n",
       "3     3685\n",
       "Name: mdct_inu_rclss_dcd, dtype: int64"
      ]
     },
     "execution_count": 37,
     "metadata": {},
     "output_type": "execute_result"
    }
   ],
   "source": [
    "test['mdct_inu_rclss_dcd'].value_counts()"
   ]
  },
  {
   "cell_type": "code",
   "execution_count": 39,
   "metadata": {},
   "outputs": [],
   "source": [
    "#mdct_inu_rclss_dcd == 9에 해당하는 변수가 test 데이터에 없음을 확인했다.\n",
    "#mdct_inu_rclss_dcd_9이라는 새로운 더미변수를 추가해 train_dummy와 test_dummy의 칼럼을 대응시킨다.\n",
    "test_dummy['mdct_inu_rclss_dcd_9'] = 0"
   ]
  },
  {
   "cell_type": "code",
   "execution_count": 50,
   "metadata": {},
   "outputs": [],
   "source": [
    "#train_dummy, test_dummy csv파일로 저장\n",
    "train_dummy.to_csv('D:/thon/data/mirae/classification/train_dummy.csv')\n",
    "test_dummy.to_csv('D:/thon/data/mirae/classification/test_dummy.csv')"
   ]
  }
 ],
 "metadata": {
  "kernelspec": {
   "display_name": "Python 3",
   "language": "python",
   "name": "python3"
  },
  "language_info": {
   "codemirror_mode": {
    "name": "ipython",
    "version": 3
   },
   "file_extension": ".py",
   "mimetype": "text/x-python",
   "name": "python",
   "nbconvert_exporter": "python",
   "pygments_lexer": "ipython3",
   "version": "3.8.5"
  }
 },
 "nbformat": 4,
 "nbformat_minor": 4
}
