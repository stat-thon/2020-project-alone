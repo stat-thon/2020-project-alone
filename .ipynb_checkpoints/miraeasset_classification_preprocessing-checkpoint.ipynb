{
 "cells": [
  {
   "cell_type": "markdown",
   "metadata": {},
   "source": [
    "## 미래에셋 빅데이터 콘테스트\n",
    "### 보험금 청구 분류\n",
    "### 전처리"
   ]
  },
  {
   "cell_type": "code",
   "execution_count": 16,
   "metadata": {},
   "outputs": [],
   "source": [
    "#라이브러리 불러오기\n",
    "import pandas as pd\n",
    "import numpy as np\n",
    "import matplotlib.pyplot as plt\n",
    "\n",
    "#데이터 불러오기\n",
    "train = pd.read_csv(\"D:/thon/data/mirae/classification/train.csv\")\n",
    "test = pd.read_csv(\"D:/thon/data/mirae/classification/test.csv\")\n",
    "\n",
    "#범주형 칼럼 선택\n",
    "category_feature = [col for col in train.columns if train[col].dtypes == 'int64']\n",
    "category_feature = list(set(category_feature) - set(['ID', 'target', 'base_ym']))\n",
    "\n",
    "#범주형 칼럼 범주화\n",
    "for col in category_feature:\n",
    "    train[col] = train[col].astype(str)\n",
    "    \n",
    "for col in category_feature:\n",
    "    test[col] = test[col].astype(str)\n",
    "    \n",
    "#train, test 더미변수 생성\n",
    "train_dummy = pd.get_dummies(train, drop_first=True)\n",
    "test_dummy = pd.get_dummies(test, drop_first = True)\n",
    "\n",
    "#train 데이터에는 mdct_inu_rclss_dcd_9 칼럼이 있지만 test 데이터에는 없어서 추가해줌\n",
    "test_dummy['mdct_inu_rclss_dcd_9'] = 0"
   ]
  },
  {
   "cell_type": "code",
   "execution_count": null,
   "metadata": {},
   "outputs": [],
   "source": [
    "#csv 파일로 저장\n",
    "train_dummy.to_csv('D:/thon/data/mirae/classification/train_dummy.csv')\n",
    "test_dummy.to_csv('D:/thon/data/mirae/classification/test_dummy.csv')"
   ]
  },
  {
   "cell_type": "code",
   "execution_count": 19,
   "metadata": {},
   "outputs": [],
   "source": [
    "#unknown 칼럼 삭제한 파일 따로 만들기\n",
    "train_wo_uk = train_dummy.drop(['mdct_inu_rclss_dcd_9','prm_nvcd_99', 'inamt_nvcd_99', 'ac_ctr_diff_1', 'ac_rst_diff_1'], axis = 'columns')\n",
    "test_wo_uk = test_dummy.drop(['mdct_inu_rclss_dcd_9','prm_nvcd_99', 'inamt_nvcd_99', 'ac_ctr_diff_1', 'ac_rst_diff_1'], axis = 'columns')"
   ]
  },
  {
   "cell_type": "code",
   "execution_count": 22,
   "metadata": {},
   "outputs": [],
   "source": [
    "#csv 파일 만들기\n",
    "train_wo_uk.to_csv('D:/thon/data/mirae/classification/train_wo_uk.csv')\n",
    "test_wo_uk.to_csv('D:/thon/data/mirae/classification/test_wo_uk.csv')"
   ]
  }
 ],
 "metadata": {
  "kernelspec": {
   "display_name": "Python 3",
   "language": "python",
   "name": "python3"
  },
  "language_info": {
   "codemirror_mode": {
    "name": "ipython",
    "version": 3
   },
   "file_extension": ".py",
   "mimetype": "text/x-python",
   "name": "python",
   "nbconvert_exporter": "python",
   "pygments_lexer": "ipython3",
   "version": "3.7.9"
  }
 },
 "nbformat": 4,
 "nbformat_minor": 4
}
