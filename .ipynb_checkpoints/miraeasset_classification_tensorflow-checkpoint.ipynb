{
 "cells": [
  {
   "cell_type": "markdown",
   "metadata": {},
   "source": [
    "# 신경망 적용"
   ]
  },
  {
   "cell_type": "code",
   "execution_count": 3,
   "metadata": {},
   "outputs": [],
   "source": [
    "import tensorflow as tf\n",
    "import tflearn\n",
    "import pandas as pd\n",
    "import numpy as np\n",
    "import matplotlib.pyplot as plt\n",
    "import seaborn as sns"
   ]
  },
  {
   "cell_type": "code",
   "execution_count": 4,
   "metadata": {},
   "outputs": [],
   "source": [
    "#데이터 불러오기\n",
    "train = pd.read_csv(\"D:/thon/data/mirae/classification/train.csv\")\n",
    "test = pd.read_csv(\"D:/thon/data/mirae/classification/test.csv\")\n",
    "train_dummy = pd.read_csv(\"D:/thon/data/mirae/classification/train_dummy.csv\")\n",
    "test_dummy = pd.read_csv(\"D:/thon/data/mirae/classification/test_dummy.csv\")"
   ]
  },
  {
   "cell_type": "code",
   "execution_count": 9,
   "metadata": {},
   "outputs": [],
   "source": [
    "#필요없는 항목 삭제\n",
    "test_dummy.drop(['Unnamed: 0'], axis = 1, inplace = True)\n",
    "test_dummy.drop(['ID'], axis = 1, inplace = True)\n",
    "test_dummy.drop(['base_ym'], axis = 1, inplace = True)\n",
    "\n",
    "train_dummy.drop(['Unnamed: 0'], axis = 1, inplace = True)\n",
    "train_dummy.drop(['ID'], axis = 1, inplace = True)\n",
    "train_dummy.drop(['base_ym'], axis = 1, inplace = True)"
   ]
  },
  {
   "cell_type": "code",
   "execution_count": null,
   "metadata": {},
   "outputs": [],
   "source": []
  },
  {
   "cell_type": "code",
   "execution_count": 10,
   "metadata": {},
   "outputs": [],
   "source": [
    "#X와 Y로 변수 구별\n",
    "x_train_dummy = train_dummy.drop(['target'], axis = 1)\n",
    "y_train_dummy = train_dummy['target']"
   ]
  },
  {
   "cell_type": "code",
   "execution_count": 11,
   "metadata": {},
   "outputs": [],
   "source": [
    "#타깃 변수 문자형 변환\n",
    "y_train_dummy = y_train_dummy.astype(str)"
   ]
  },
  {
   "cell_type": "code",
   "execution_count": null,
   "metadata": {},
   "outputs": [],
   "source": [
    "#10% 시험 수행 준비\n",
    "t1 = train_dummy.sample(frac = 0.1)"
   ]
  },
  {
   "cell_type": "code",
   "execution_count": null,
   "metadata": {},
   "outputs": [],
   "source": []
  },
  {
   "cell_type": "code",
   "execution_count": null,
   "metadata": {},
   "outputs": [],
   "source": [
    "#신경망 만들기\n",
    "#초기화하기\n",
    "tf.reset_default_graph()\n",
    "\n",
    "#입력 레이어 만들기\n",
    "net = tflearn.input_data(shape = [None, 128])\n",
    "\n",
    "#중간 레이어 만들기\n",
    "net = tflearn.fully_connected(net, 32, activation = 'relu')\n",
    "net = tflearn.dropout(net, 0.5)\n",
    "\n",
    "#출력레이어 만들기\n",
    "net = tflearn.fully_connected(net, 3, activation = 'softmax')\n",
    "net = tflearn.regression(net, optimizer = 'sgd', learning_rate = 0.5, loss = 'categorical_crossentropy')"
   ]
  },
  {
   "cell_type": "code",
   "execution_count": null,
   "metadata": {},
   "outputs": [],
   "source": [
    "#모델 학습\n",
    "model_dnn = tflearn.DNN(net)\n",
    "model_dnn.fit(x_train_dummy, y_train_dummy, n_epoch = 20, batch_size = 100, validation_set = 0.1,\n",
    "          show_metric = True)"
   ]
  },
  {
   "cell_type": "code",
   "execution_count": null,
   "metadata": {},
   "outputs": [
    {
     "name": "stdout",
     "output_type": "stream",
     "text": [
      "WARNING:tensorflow:From C:\\Users\\thon\\anaconda3\\envs\\thon\\lib\\site-packages\\tflearn\\summaries.py:46: The name tf.summary.scalar is deprecated. Please use tf.compat.v1.summary.scalar instead.\n",
      "\n",
      "WARNING:tensorflow:From C:\\Users\\thon\\anaconda3\\envs\\thon\\lib\\site-packages\\tensorflow\\python\\ops\\math_grad.py:1250: add_dispatch_support.<locals>.wrapper (from tensorflow.python.ops.array_ops) is deprecated and will be removed in a future version.\n",
      "Instructions for updating:\n",
      "Use tf.where in 2.0, which has the same broadcast rule as np.where\n",
      "WARNING:tensorflow:From C:\\Users\\thon\\anaconda3\\envs\\thon\\lib\\site-packages\\tflearn\\helpers\\trainer.py:134: The name tf.train.Saver is deprecated. Please use tf.compat.v1.train.Saver instead.\n",
      "\n",
      "---------------------------------\n",
      "Run id: 7YHBZ3\n",
      "Log directory: /tmp/tflearn_logs/\n",
      "INFO:tensorflow:Summary name Accuracy/ (raw) is illegal; using Accuracy/__raw_ instead.\n",
      "---------------------------------\n",
      "Training samples: 340135\n",
      "Validation samples: 37793\n",
      "--\n"
     ]
    },
    {
     "name": "stderr",
     "output_type": "stream",
     "text": [
      "Exception in thread Thread-8:\n",
      "Traceback (most recent call last):\n",
      "  File \"C:\\Users\\thon\\anaconda3\\envs\\thon\\lib\\threading.py\", line 926, in _bootstrap_inner\n",
      "    self.run()\n",
      "  File \"C:\\Users\\thon\\anaconda3\\envs\\thon\\lib\\threading.py\", line 870, in run\n",
      "    self._target(*self._args, **self._kwargs)\n",
      "  File \"C:\\Users\\thon\\anaconda3\\envs\\thon\\lib\\site-packages\\tflearn\\data_flow.py\", line 187, in fill_feed_dict_queue\n",
      "    data = self.retrieve_data(batch_ids)\n",
      "  File \"C:\\Users\\thon\\anaconda3\\envs\\thon\\lib\\site-packages\\tflearn\\data_flow.py\", line 222, in retrieve_data\n",
      "    utils.slice_array(self.feed_dict[key], batch_ids)\n",
      "  File \"C:\\Users\\thon\\anaconda3\\envs\\thon\\lib\\site-packages\\tflearn\\utils.py\", line 187, in slice_array\n",
      "    return X[start]\n",
      "  File \"C:\\Users\\thon\\anaconda3\\envs\\thon\\lib\\site-packages\\pandas\\core\\frame.py\", line 2908, in __getitem__\n",
      "    indexer = self.loc._get_listlike_indexer(key, axis=1, raise_missing=True)[1]\n",
      "  File \"C:\\Users\\thon\\anaconda3\\envs\\thon\\lib\\site-packages\\pandas\\core\\indexing.py\", line 1254, in _get_listlike_indexer\n",
      "    self._validate_read_indexer(keyarr, indexer, axis, raise_missing=raise_missing)\n",
      "  File \"C:\\Users\\thon\\anaconda3\\envs\\thon\\lib\\site-packages\\pandas\\core\\indexing.py\", line 1298, in _validate_read_indexer\n",
      "    raise KeyError(f\"None of [{key}] are in the [{axis_name}]\")\n",
      "KeyError: \"None of [Int64Index([171929, 197238, 270543,  54613, 358314,  73270, 160789,  20466,\\n            179057, 334366, 286038, 181647, 137888,  98530, 204035, 176594,\\n            241793, 158002, 115682, 158074,  41004, 330113, 142748, 235966,\\n             30542, 232872, 336524, 289589, 227237, 208833, 107711, 154969,\\n            192894, 347015, 258064, 141430, 276584, 274590, 225997,  76696,\\n             30740, 244161, 243880, 198972, 302257,  33584, 318992,  35558,\\n            320664, 368586, 246075, 356885, 103991, 106774, 223544,  68808,\\n            220539, 185026,  65863, 224700, 132528, 211911, 163870, 358755,\\n             34026,  26468, 306144, 351318, 104940,  12345,  26877, 359369,\\n             42030, 374660, 186145, 377227, 112884, 204734, 162452,  26606,\\n             41293, 181765, 138293, 268067, 239530, 274036,   8195,  72672,\\n            350671, 259843, 210529, 218960,  44800,  91625, 161837,  39957,\\n            216590, 224073, 170208, 111870],\\n           dtype='int64')] are in the [columns]\"\n",
      "\n"
     ]
    }
   ],
   "source": [
    "#모델 학습\n",
    "model_dnn = tflearn.DNN(net)\n",
    "model_dnn.fit(x_train_dummy, y_train_dummy, n_epoch = 20, batch_size = 100, validation_set = 0.1,\n",
    "          show_metric = True)"
   ]
  }
 ],
 "metadata": {
  "kernelspec": {
   "display_name": "Python 3",
   "language": "python",
   "name": "python3"
  },
  "language_info": {
   "codemirror_mode": {
    "name": "ipython",
    "version": 3
   },
   "file_extension": ".py",
   "mimetype": "text/x-python",
   "name": "python",
   "nbconvert_exporter": "python",
   "pygments_lexer": "ipython3",
   "version": "3.7.9"
  }
 },
 "nbformat": 4,
 "nbformat_minor": 4
}
